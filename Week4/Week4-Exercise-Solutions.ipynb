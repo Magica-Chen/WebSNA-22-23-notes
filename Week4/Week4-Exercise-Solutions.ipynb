{
 "cells": [
  {
   "cell_type": "markdown",
   "id": "26fedb97",
   "metadata": {},
   "source": [
    "In this notebook, we will get the solutions for both A-priori algorithm and collaborative filtering"
   ]
  },
  {
   "cell_type": "code",
   "execution_count": null,
   "id": "b9863b36",
   "metadata": {},
   "outputs": [],
   "source": [
    "import pandas as pd\n",
    "import numpy as np"
   ]
  },
  {
   "cell_type": "markdown",
   "id": "22fb6a40",
   "metadata": {},
   "source": [
    "# A-priori algorithm"
   ]
  },
  {
   "cell_type": "code",
   "execution_count": null,
   "id": "a53e2e36",
   "metadata": {},
   "outputs": [],
   "source": [
    "from itertools import combinations,chain"
   ]
  },
  {
   "cell_type": "markdown",
   "id": "d49d79b2",
   "metadata": {},
   "source": [
    "## Write a function to find all combination of itemsets of size level-1 to generate new level-size itemsets"
   ]
  },
  {
   "cell_type": "code",
   "execution_count": null,
   "id": "4dec67f9",
   "metadata": {},
   "outputs": [],
   "source": [
    "def mingle(items, level):\n",
    "    outcome = set()\n",
    "    for item in items:\n",
    "        for item2 in items:\n",
    "            if item!=item2:\n",
    "                newCombination = set()\n",
    "                # If level >2, this means the itemsets contain more than 1 item\n",
    "                if level>2:\n",
    "                    for i in item:\n",
    "                        newCombination.add(i)\n",
    "                    for i in item2:\n",
    "                        newCombination.add(i)\n",
    "                else:\n",
    "                    newCombination.add(item)\n",
    "                    newCombination.add(item2)\n",
    "                # Only retain combinations of itemsets that are of the size of the current level\n",
    "                # The combination of larger itemsets can result in, e.g., 2-item itemsets combined \n",
    "                #                 into 4-item itemsets\n",
    "                # while the level is 3, requiring 3-item itemsets\n",
    "                if(len(newCombination)==level):\n",
    "                    outcome.add(frozenset(newCombination))\n",
    "                    \n",
    "    return outcome"
   ]
  },
  {
   "cell_type": "code",
   "execution_count": null,
   "id": "a39a320f",
   "metadata": {},
   "outputs": [],
   "source": [
    "# test the written function\n",
    "assert  mingle([\"a\",\"b\",\"c\"], 2) == {frozenset({'a', 'c'}), \n",
    "                                     frozenset({'b', 'c'}), \n",
    "                                     frozenset({'a', 'b'})}\n",
    "\n",
    "assert mingle([[\"a\",\"b\"],[\"a\",\"c\"],[\"a\",\"d\"]], 3) == {frozenset({'a', 'c', 'd'}), \n",
    "                                               frozenset({'a', 'b', 'd'}),\n",
    "                                               frozenset({'a', 'b', 'c'})}\n",
    "print(\"tests passed\")"
   ]
  },
  {
   "cell_type": "code",
   "execution_count": null,
   "id": "b78b60f8",
   "metadata": {},
   "outputs": [],
   "source": []
  },
  {
   "cell_type": "markdown",
   "id": "00bb820f",
   "metadata": {},
   "source": [
    "## Write a function that calculates the support of an itemset in a transactions database."
   ]
  },
  {
   "cell_type": "code",
   "execution_count": null,
   "id": "6e67a9f1",
   "metadata": {},
   "outputs": [],
   "source": [
    "def support(itemset,transactions,level):\n",
    "    \n",
    "    count = 0\n",
    "    for trans in transactions:\n",
    "        # Assume the transaction contains the items unless proven otherwise below\n",
    "        contain = True\n",
    "        # If level > 1, the itemsets contain more than 1 item, and we need to loop all items in the itemset\n",
    "        if level>1:\n",
    "            for item in itemset:      \n",
    "                if item not in trans:\n",
    "                    # No need to look further if even 1 item is not contained in the transaction\n",
    "                    contain = False\n",
    "                    break\n",
    "        else:\n",
    "            if itemset not in trans:\n",
    "                contain = False\n",
    "        if contain:\n",
    "            count = count + 1\n",
    "    return count/len(transactions)\n"
   ]
  },
  {
   "cell_type": "code",
   "execution_count": null,
   "id": "65738958",
   "metadata": {},
   "outputs": [],
   "source": [
    "# test the written function\n",
    "assert support(\"a\", [[\"a\",\"b\",\"c\"], [\"a\",\"b\",\"d\"], [\"b\",\"c\"], [\"a\",\"c\"]], 1) == 0.75\n",
    "assert support(\"d\", [[\"a\",\"b\",\"c\"], [\"a\",\"b\",\"d\"], [\"b\",\"c\"], [\"a\",\"c\"]], 1) == 0.25\n",
    "assert support([\"a\",\"b\"], [[\"a\",\"b\",\"c\"], [\"a\",\"b\",\"d\"], [\"b\",\"c\"], [\"a\",\"c\"]], 2) == 0.5\n",
    "print(\"tests passed\")"
   ]
  },
  {
   "cell_type": "markdown",
   "id": "98f6cf06",
   "metadata": {},
   "source": [
    "## Write the Apriori function"
   ]
  },
  {
   "cell_type": "code",
   "execution_count": null,
   "id": "fa59c8bf",
   "metadata": {},
   "outputs": [],
   "source": [
    "# for now this function will just print some results for us to observe, \n",
    "# rather than return them in a data structure\n",
    "\n",
    "def apriori(level,transactions,items,minsup):\n",
    "    \n",
    "    print(\"\\nLevel: \"+str(level))\n",
    "    \n",
    "    # set for items with support value that is high enough\n",
    "    retain = set()\n",
    "    \n",
    "    # find items with support value that is high enough\n",
    "    for item in items:\n",
    "        print(str(item)+\" support: \"+str(support(item,transactions,level)))      \n",
    "        if support(item,transactions,level)>=minsup:\n",
    "            retain.add(item)\n",
    "    print(\"Retain: \"+str(retain))\n",
    "    \n",
    "    level = level+1\n",
    "        \n",
    "    # generate new candidates\n",
    "    newsets=mingle(retain,level)\n",
    "    print(\"New itemsets: \"+str(newsets))    \n",
    "    \n",
    "    # stop if no candidates are left or you will put all items in one set\n",
    "    if len(newsets)!=0 and level<len(items)+1:\n",
    "        apriori(level,transactions,newsets,minsup)"
   ]
  },
  {
   "cell_type": "code",
   "execution_count": null,
   "id": "911c5880",
   "metadata": {},
   "outputs": [],
   "source": [
    "apriori(1, [[\"a\",\"b\",\"c\"], [\"a\",\"b\",\"d\"], [\"b\",\"c\"]], {\"a\",\"b\",\"c\", \"d\"}, 0.6)"
   ]
  },
  {
   "cell_type": "markdown",
   "id": "83943b80",
   "metadata": {},
   "source": [
    "## Use this to run the complete algorithm."
   ]
  },
  {
   "cell_type": "code",
   "execution_count": null,
   "id": "9f3c0a25",
   "metadata": {},
   "outputs": [],
   "source": [
    "# open the data\n",
    "file = open('data/baskets.csv','r')\n",
    "\n",
    "transactions = []\n",
    "items = set()\n",
    "\n",
    "# save all transactions and items\n",
    "for line in file:\n",
    "    line = line.replace('\\n','')\n",
    "    litems = line.split(',')\n",
    "    transactions.append(litems)\n",
    "    for item in litems:\n",
    "        items.add(item)\n",
    "\n",
    "noItems = len(items)\n",
    "\n",
    "# apply Apriori algorithm\n",
    "apriori(1,transactions,items,0.6)   "
   ]
  },
  {
   "cell_type": "markdown",
   "id": "e12e4358",
   "metadata": {},
   "source": [
    "## !!!Open Questions: can you try other \"level\"? How do different levels affect the final results? What does level mean?"
   ]
  },
  {
   "cell_type": "code",
   "execution_count": null,
   "id": "9dcbb9ad",
   "metadata": {},
   "outputs": [],
   "source": []
  },
  {
   "cell_type": "markdown",
   "id": "aebacec9",
   "metadata": {},
   "source": [
    "# Collaborative filtering"
   ]
  },
  {
   "cell_type": "markdown",
   "id": "a56c839c",
   "metadata": {},
   "source": [
    "Here we use the cosine similarity in order to find similar users that we can recommend products."
   ]
  },
  {
   "cell_type": "code",
   "execution_count": null,
   "id": "2f0b533c",
   "metadata": {},
   "outputs": [],
   "source": [
    "from sklearn.metrics.pairwise import cosine_similarity\n",
    "from scipy.spatial.distance import cosine"
   ]
  },
  {
   "cell_type": "markdown",
   "id": "2fd56cfd",
   "metadata": {},
   "source": [
    "## Load data"
   ]
  },
  {
   "cell_type": "code",
   "execution_count": null,
   "id": "7f82a0d9",
   "metadata": {},
   "outputs": [],
   "source": [
    "# load data\n",
    "ratings = pd.read_csv('data/ratings.csv')\n",
    "\n",
    "# sample dataset\n",
    "# be careful, large dataset!\n",
    "ratings = ratings[:10000]\n",
    "\n",
    "print(ratings.head())\n",
    "\n",
    "# print some information\n",
    "noMovies = len(ratings['movieId'].unique())\n",
    "noUsers = len(ratings['userId'].unique())\n",
    "print(str(noMovies)+\" from \"+str(noUsers)+' users')"
   ]
  },
  {
   "cell_type": "markdown",
   "id": "675d43fe",
   "metadata": {},
   "source": [
    "## Create an empty perons_ratings matrix"
   ]
  },
  {
   "cell_type": "code",
   "execution_count": null,
   "id": "e4389b74",
   "metadata": {},
   "outputs": [],
   "source": [
    "perons_ratings = np.zeros(shape=(noUsers,noMovies))\n",
    "perons_ratings"
   ]
  },
  {
   "cell_type": "markdown",
   "id": "88f19465",
   "metadata": {},
   "source": [
    "Store movieIds as indices to use in perons_ratings matrix as the current indices don't match the sequential indices that a matrix uses."
   ]
  },
  {
   "cell_type": "code",
   "execution_count": null,
   "id": "90671ea7",
   "metadata": {},
   "outputs": [],
   "source": [
    "movieIds = {}\n",
    "midi = 0\n",
    "for value in ratings['movieId'].unique():\n",
    "    movieIds[value]=midi\n",
    "    midi = midi + 1"
   ]
  },
  {
   "cell_type": "markdown",
   "id": "26851c6a",
   "metadata": {},
   "source": [
    "Populate the perons_ratings matrix by looping all the rows in the ratings dataframe"
   ]
  },
  {
   "cell_type": "code",
   "execution_count": null,
   "id": "476985ce",
   "metadata": {},
   "outputs": [],
   "source": [
    "for index, line in ratings.iterrows():\n",
    "    uid = int(line['userId'])-1\n",
    "    mid = movieIds[line['movieId']]\n",
    "    rating = line['rating']\n",
    "    # store the rating in the perons_ratings matrix at row user id - uid and column movie - mid\n",
    "    perons_ratings[uid,mid]=rating\n",
    "    \n",
    "perons_ratings"
   ]
  },
  {
   "cell_type": "markdown",
   "id": "7daa6df3",
   "metadata": {},
   "source": [
    "Then we need to write two functions, one is to find similar user and the other one is to find new product!\n",
    "\n",
    "\n",
    "**Note: the best solution is to write a class and you can put all global variables inside the function. However, here, to simplify the code for understanding, we write two functions and use global variables (it is not a good habit).** \n",
    "\n",
    "Of course, if you have interests and you're familiar with Python class, I believe you can do better by writing these functions in a class."
   ]
  },
  {
   "cell_type": "code",
   "execution_count": null,
   "id": "7c7394c8",
   "metadata": {},
   "outputs": [],
   "source": []
  },
  {
   "cell_type": "markdown",
   "id": "222e1b84",
   "metadata": {},
   "source": [
    "## Write a function to find similar users"
   ]
  },
  {
   "cell_type": "code",
   "execution_count": null,
   "id": "3bc456fb",
   "metadata": {},
   "outputs": [],
   "source": [
    "def findSimilarUsers(person_number, minCos=0.8):\n",
    "    # list for similar users\n",
    "    similar_users = []\n",
    "    \n",
    "    # for all other users\n",
    "    for other_person in range(0,len(perons_ratings)-1):\n",
    "        if person_number!= other_person:\n",
    "            # calculate similarity\n",
    "            cosine_sim = cosine(perons_ratings[person_number],perons_ratings[other_person])\n",
    "\n",
    "            # retain other user if similarity threshold is met\n",
    "            if cosine_sim>minCos:\n",
    "                similar_users.append(perons_ratings[other_person])\n",
    "    print(\"#similar users: \"+str(len(similar_users)))\n",
    "    return similar_users"
   ]
  },
  {
   "cell_type": "markdown",
   "id": "819c8afb",
   "metadata": {},
   "source": [
    "## Write a function to find new product"
   ]
  },
  {
   "cell_type": "code",
   "execution_count": null,
   "id": "b6736216",
   "metadata": {},
   "outputs": [],
   "source": [
    "def findNewProducts(similar_users,person_number, minScore=1.3):\n",
    "    if len(similar_users)>0:\n",
    "        # celli stands for the column number of the perons_ratings matrix, i.e., a movie\n",
    "        for movie_number in range(len(perons_ratings[person_number])-1):\n",
    "            # if there is no rating for our current user, calculate new score\n",
    "            if perons_ratings[person_number,movie_number]==0:\n",
    "                other_scores = 0\n",
    "                \n",
    "                # add scores of similar users\n",
    "                for other in similar_users:\n",
    "                    other_scores += other[movie_number]\n",
    "                                 \n",
    "                # store average score \n",
    "                average_score = other_scores/len(similar_users)\n",
    "#                 print(f\"average_score: {average_score} \\t {other_scores} / {len(similar_users)} \")\n",
    "                \n",
    "                # if the score is greater than a threshold, e.g. 1.3 (on scale from 0 to 5)\n",
    "                # (it's so low, because most people did not rate most movies)\n",
    "                if average_score>minScore:\n",
    "                    print(f'Recommendation for user {person_number} is a movie {movie_number}, score {average_score}')\n",
    "#     "
   ]
  },
  {
   "cell_type": "markdown",
   "id": "a9a2072e",
   "metadata": {},
   "source": [
    "## Complete the experiment"
   ]
  },
  {
   "cell_type": "code",
   "execution_count": null,
   "id": "a1043900",
   "metadata": {
    "scrolled": false
   },
   "outputs": [],
   "source": [
    "# minimum cosine similarity\n",
    "minCos = 0.8\n",
    "# minimum score\n",
    "minScore = 1.3\n",
    "\n",
    "for row_number in range(0,len(perons_ratings)-1):\n",
    "    print(\"\\nFinding recommendations for user \"+str(row_number))\n",
    "    simmilarUsers = findSimilarUsers(row_number, minCos)\n",
    "    findNewProducts(simmilarUsers,row_number, minScore)"
   ]
  },
  {
   "cell_type": "markdown",
   "id": "333003ca",
   "metadata": {},
   "source": [
    "## !!!Open Questions: Can you think of a approach to visualise the final results for better understanding?"
   ]
  },
  {
   "cell_type": "markdown",
   "id": "e4f1bc3b",
   "metadata": {},
   "source": [
    "Hints: for example, Directed Graph!"
   ]
  },
  {
   "cell_type": "code",
   "execution_count": null,
   "id": "277156c1",
   "metadata": {},
   "outputs": [],
   "source": []
  }
 ],
 "metadata": {
  "kernelspec": {
   "display_name": "Python 3 (ipykernel)",
   "language": "python",
   "name": "python3"
  },
  "language_info": {
   "codemirror_mode": {
    "name": "ipython",
    "version": 3
   },
   "file_extension": ".py",
   "mimetype": "text/x-python",
   "name": "python",
   "nbconvert_exporter": "python",
   "pygments_lexer": "ipython3",
   "version": "3.9.12"
  }
 },
 "nbformat": 4,
 "nbformat_minor": 5
}
